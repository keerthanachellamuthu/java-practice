{
  "nbformat": 4,
  "nbformat_minor": 0,
  "metadata": {
    "colab": {
      "provenance": [],
      "authorship_tag": "ABX9TyPSelY6gFgVRwSFzIM8tnWV",
      "include_colab_link": true
    },
    "kernelspec": {
      "name": "python3",
      "display_name": "Python 3"
    },
    "language_info": {
      "name": "python"
    }
  },
  "cells": [
    {
      "cell_type": "markdown",
      "metadata": {
        "id": "view-in-github",
        "colab_type": "text"
      },
      "source": [
        "<a href=\"https://colab.research.google.com/github/keerthanachellamuthu/java-practice/blob/main/Python.ipynb\" target=\"_parent\"><img src=\"https://colab.research.google.com/assets/colab-badge.svg\" alt=\"Open In Colab\"/></a>"
      ]
    },
    {
      "cell_type": "code",
      "execution_count": null,
      "metadata": {
        "colab": {
          "base_uri": "https://localhost:8080/"
        },
        "id": "A3hXvhcWOGW5",
        "outputId": "43d9a01a-2c4c-4106-dd5e-237731ea5cf4"
      },
      "outputs": [
        {
          "output_type": "stream",
          "name": "stdout",
          "text": [
            "hello, world\n",
            "the number is greater than 2\n",
            "5 hello world \n"
          ]
        }
      ],
      "source": [
        "import os\n",
        "\n",
        "print(\"hello, world\")\n",
        "\n",
        "if 5 > 2:\n",
        "  print(\"the number is greater than 2\")\n",
        "\n",
        "x = 5\n",
        "y = \"hello world \"\n",
        "print(x , y)\n",
        "\n",
        "\n",
        "\n",
        "\n"
      ]
    }
  ]
}